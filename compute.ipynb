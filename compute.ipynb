{
 "cells": [
  {
   "cell_type": "code",
   "execution_count": 91,
   "metadata": {},
   "outputs": [],
   "source": [
    "from Bio import SeqIO\n",
    "from collections import defaultdict\n",
    "import matplotlib.pyplot as plt\n",
    "import numpy as np\n",
    "import pandas as pd\n",
    "import random\n",
    "import re"
   ]
  },
  {
   "cell_type": "code",
   "execution_count": 92,
   "metadata": {},
   "outputs": [],
   "source": [
    "path = \"/Users/mayongzhi/Desktop/bioinformatic_project/genotyping_tool/F38_otof-Rprimer.ab1\""
   ]
  },
  {
   "cell_type": "code",
   "execution_count": 93,
   "metadata": {},
   "outputs": [
    {
     "data": {
      "text/plain": [
       "SeqRecord(seq=Seq('CGGGGTGCCTAGGACATAATCTTGGAAAGCACAGGGAGGGTTGGGCCACTACCA...CTA'), id='F38_otof-Rprimer', name='F38_otof-Rprimer', description='', dbxrefs=[])"
      ]
     },
     "execution_count": 93,
     "metadata": {},
     "output_type": "execute_result"
    }
   ],
   "source": [
    "record = SeqIO.read(path, \"abi\")\n",
    "record"
   ]
  },
  {
   "cell_type": "code",
   "execution_count": 101,
   "metadata": {},
   "outputs": [
    {
     "data": {
      "text/plain": [
       "Seq('CGGGGTGCCTAGGACATAATCTTGGAAAGCACAGGGAGGGTTGGGCCACTACCA...CTA')"
      ]
     },
     "execution_count": 101,
     "metadata": {},
     "output_type": "execute_result"
    }
   ],
   "source": [
    "sequence = record.seq\n",
    "sequence"
   ]
  },
  {
   "cell_type": "code",
   "execution_count": 109,
   "metadata": {},
   "outputs": [],
   "source": [
    "pattern = \"ATGCCGTGTCAGGCCGGCTA\""
   ]
  },
  {
   "cell_type": "code",
   "execution_count": 110,
   "metadata": {},
   "outputs": [
    {
     "data": {
      "text/plain": [
       "['DATA1', 'DATA2', 'DATA3', 'DATA4']"
      ]
     },
     "execution_count": 110,
     "metadata": {},
     "output_type": "execute_result"
    }
   ],
   "source": [
    "channels = []\n",
    "for d in [1,2,3,4]:\n",
    "    channels += [f'DATA{d}']\n",
    "channels"
   ]
  },
  {
   "cell_type": "code",
   "execution_count": 111,
   "metadata": {},
   "outputs": [
    {
     "name": "stdout",
     "output_type": "stream",
     "text": [
      "Found 'ATGCCGTGTCAGGCCGGCTA' at position 497-516 in the sequence.\n"
     ]
    }
   ],
   "source": [
    "matches = re.finditer(pattern, str(sequence))\n",
    "\n",
    "for match in matches:\n",
    "    start = match.start()\n",
    "    end = match.end()\n",
    "    matched_sequence = sequence[start:end]\n",
    "    print(f\"Found '{matched_sequence}' at position {start+1}-{end} in the sequence.\")"
   ]
  },
  {
   "cell_type": "code",
   "execution_count": 112,
   "metadata": {},
   "outputs": [
    {
     "name": "stdout",
     "output_type": "stream",
     "text": [
      "Sub trace data defaultdict(<class 'list'>, {'DATA1': (37, 36, 28, 25, 34, 10, 27, 29, 18, 22, 19, 17, 6, 24, 16, 5, 18, 15, 11, 10), 'DATA2': (51, 32, 37, 40, 34, 47, 37, 31, 39, 22, 31, 27, 28, 22, 19, 28, 24, 25, 32, 27), 'DATA3': (16, 18, 14, 24, 31, 9, 4, 21, 17, 42, 15, 17, 11, 16, 11, -1, 12, 1, 27, 0), 'DATA4': (63, 26, 35, 29, 30, 24, 21, 24, 14, 28, 21, 16, 12, 10, 17, 10, 17, 6, 12, 5)})\n"
     ]
    }
   ],
   "source": [
    "sub_trace = defaultdict(list)\n",
    "for c in channels:\n",
    "    sub_trace[c] = record.annotations['abif_raw'][c][start:end]\n",
    "print(\"Sub trace data\", sub_trace)"
   ]
  },
  {
   "cell_type": "code",
   "execution_count": 120,
   "metadata": {},
   "outputs": [
    {
     "data": {
      "text/html": [
       "<div>\n",
       "<style scoped>\n",
       "    .dataframe tbody tr th:only-of-type {\n",
       "        vertical-align: middle;\n",
       "    }\n",
       "\n",
       "    .dataframe tbody tr th {\n",
       "        vertical-align: top;\n",
       "    }\n",
       "\n",
       "    .dataframe thead th {\n",
       "        text-align: right;\n",
       "    }\n",
       "</style>\n",
       "<table border=\"1\" class=\"dataframe\">\n",
       "  <thead>\n",
       "    <tr style=\"text-align: right;\">\n",
       "      <th></th>\n",
       "      <th>DATA1</th>\n",
       "      <th>DATA2</th>\n",
       "      <th>DATA3</th>\n",
       "      <th>DATA4</th>\n",
       "    </tr>\n",
       "  </thead>\n",
       "  <tbody>\n",
       "    <tr>\n",
       "      <th>0</th>\n",
       "      <td>37</td>\n",
       "      <td>51</td>\n",
       "      <td>16</td>\n",
       "      <td>63</td>\n",
       "    </tr>\n",
       "    <tr>\n",
       "      <th>1</th>\n",
       "      <td>36</td>\n",
       "      <td>32</td>\n",
       "      <td>18</td>\n",
       "      <td>26</td>\n",
       "    </tr>\n",
       "    <tr>\n",
       "      <th>2</th>\n",
       "      <td>28</td>\n",
       "      <td>37</td>\n",
       "      <td>14</td>\n",
       "      <td>35</td>\n",
       "    </tr>\n",
       "    <tr>\n",
       "      <th>3</th>\n",
       "      <td>25</td>\n",
       "      <td>40</td>\n",
       "      <td>24</td>\n",
       "      <td>29</td>\n",
       "    </tr>\n",
       "    <tr>\n",
       "      <th>4</th>\n",
       "      <td>34</td>\n",
       "      <td>34</td>\n",
       "      <td>31</td>\n",
       "      <td>30</td>\n",
       "    </tr>\n",
       "  </tbody>\n",
       "</table>\n",
       "</div>"
      ],
      "text/plain": [
       "   DATA1  DATA2  DATA3  DATA4\n",
       "0     37     51     16     63\n",
       "1     36     32     18     26\n",
       "2     28     37     14     35\n",
       "3     25     40     24     29\n",
       "4     34     34     31     30"
      ]
     },
     "execution_count": 120,
     "metadata": {},
     "output_type": "execute_result"
    }
   ],
   "source": [
    "sub_trace = pd.DataFrame(sub_trace, columns = sub_trace.keys())\n",
    "sub_trace.head()"
   ]
  },
  {
   "cell_type": "code",
   "execution_count": 122,
   "metadata": {},
   "outputs": [
    {
     "data": {
      "image/png": "[encoded data removed]",
      "text/plain": [
       "<Figure size 640x480 with 1 Axes>"
      ]
     },
     "metadata": {},
     "output_type": "display_data"
    }
   ],
   "source": [
    "colors = ['#D3D3D3', '#A9A9A9', '#808080', '#696969'] #Light Grey, Dark Grey, Grey, Dim Grey\n",
    "colorful_colors = ['#0000FF', '#008000', '#FF0000', '#FFFF00']  # Blue, Green, Red, Yellow\n",
    "x_values = np.arange(start,end,1)\n",
    "\n",
    "# Loop through x_values and columns to plot vertical lines\n",
    "for i in range(len(x_values)):\n",
    "    current_colors = colorful_colors if x_values[i] in [500, 506, 510] else colors\n",
    "    for j, sub in enumerate(sub_trace.columns):\n",
    "        plt.vlines(x=x_values[i], ymin=0, ymax=sub_trace[sub].iloc[i], color=current_colors[j % len(current_colors)], linewidth=7)\n",
    "\n",
    "\n",
    "# Set x-axis label and y-axis label\n",
    "plt.xlabel('Base Pair Position')\n",
    "plt.ylabel('Value')\n",
    "plt.xticks(x_values, fontsize = 7)\n",
    "\n",
    "# Show plot\n",
    "plt.show()"
   ]
  }
 ],
 "metadata": {
  "kernelspec": {
   "display_name": "venv",
   "language": "python",
   "name": "python3"
  },
  "language_info": {
   "codemirror_mode": {
    "name": "ipython",
    "version": 3
   },
   "file_extension": ".py",
   "mimetype": "text/x-python",
   "name": "python",
   "nbconvert_exporter": "python",
   "pygments_lexer": "ipython3",
   "version": "3.10.9"
  }
 },
 "nbformat": 4,
 "nbformat_minor": 2
}
